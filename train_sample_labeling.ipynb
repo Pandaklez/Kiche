{
 "cells": [
  {
   "cell_type": "code",
   "execution_count": 1,
   "metadata": {},
   "outputs": [],
   "source": [
    "import pandas as pd"
   ]
  },
  {
   "cell_type": "code",
   "execution_count": 2,
   "metadata": {},
   "outputs": [],
   "source": [
    "filename = r\"C:\\Users\\Иннокентий\\Downloads\\test.tsv\""
   ]
  },
  {
   "cell_type": "code",
   "execution_count": 3,
   "metadata": {},
   "outputs": [],
   "source": [
    "sep='>'"
   ]
  },
  {
   "cell_type": "code",
   "execution_count": 4,
   "metadata": {},
   "outputs": [],
   "source": [
    "df = pd.read_csv(filename, sep='\\t', encoding='utf-8', names=['text', 'with_sep'])"
   ]
  },
  {
   "cell_type": "code",
   "execution_count": 5,
   "metadata": {
    "scrolled": true
   },
   "outputs": [
    {
     "data": {
      "text/html": [
       "<div>\n",
       "<style scoped>\n",
       "    .dataframe tbody tr th:only-of-type {\n",
       "        vertical-align: middle;\n",
       "    }\n",
       "\n",
       "    .dataframe tbody tr th {\n",
       "        vertical-align: top;\n",
       "    }\n",
       "\n",
       "    .dataframe thead th {\n",
       "        text-align: right;\n",
       "    }\n",
       "</style>\n",
       "<table border=\"1\" class=\"dataframe\">\n",
       "  <thead>\n",
       "    <tr style=\"text-align: right;\">\n",
       "      <th></th>\n",
       "      <th>text</th>\n",
       "      <th>with_sep</th>\n",
       "    </tr>\n",
       "  </thead>\n",
       "  <tbody>\n",
       "    <tr>\n",
       "      <th>0</th>\n",
       "      <td>Koqʼ ri akʼal .</td>\n",
       "      <td>K&gt;oqʼ ri akʼal .</td>\n",
       "    </tr>\n",
       "    <tr>\n",
       "      <th>1</th>\n",
       "      <td>Xatqʼajik .</td>\n",
       "      <td>X&gt;at&gt;qʼaj&gt;ik .</td>\n",
       "    </tr>\n",
       "    <tr>\n",
       "      <th>2</th>\n",
       "      <td>chi jun tinimit jawi kʼi wi kibʼantajik ri win...</td>\n",
       "      <td>chi jun tinimit jawi kʼi wi ki&gt;bʼantajik ri wi...</td>\n",
       "    </tr>\n",
       "    <tr>\n",
       "      <th>3</th>\n",
       "      <td>Xa jekʼuriʼ ri ix kamik riʼ man ix kaxlan wina...</td>\n",
       "      <td>Xa jekʼuriʼ ri ix kamik riʼ man ix kaxlan wina...</td>\n",
       "    </tr>\n",
       "    <tr>\n",
       "      <th>4</th>\n",
       "      <td>Xraj kaʼe le unan</td>\n",
       "      <td>X&gt;r&gt;aj ka&gt;ʼe le u&gt;nan</td>\n",
       "    </tr>\n",
       "    <tr>\n",
       "      <th>...</th>\n",
       "      <td>...</td>\n",
       "      <td>...</td>\n",
       "    </tr>\n",
       "    <tr>\n",
       "      <th>137</th>\n",
       "      <td>Kʼo pus che ri wa .</td>\n",
       "      <td>Kʼo pus ch&gt;e ri wa .</td>\n",
       "    </tr>\n",
       "    <tr>\n",
       "      <th>138</th>\n",
       "      <td>rumal rech che qastzij rumal ri usipanik xixko...</td>\n",
       "      <td>r&gt;umal rech ch&gt;e qastzij r&gt;umal ri u&gt;sipanik x...</td>\n",
       "    </tr>\n",
       "    <tr>\n",
       "      <th>139</th>\n",
       "      <td>Natural</td>\n",
       "      <td>Natural</td>\n",
       "    </tr>\n",
       "    <tr>\n",
       "      <th>140</th>\n",
       "      <td>kojonik pa ri utzij wa Iximulew .</td>\n",
       "      <td>kojonik pa ri u&gt;tzij wa Iximulew .</td>\n",
       "    </tr>\n",
       "    <tr>\n",
       "      <th>141</th>\n",
       "      <td>ri qʼatbʼaltzij kokik , xuqujeʼ ri uchuqʼabʼ r...</td>\n",
       "      <td>ri qʼatbʼaltzij k&gt;ok&gt;ik , xuqujeʼ ri u&gt;chuqʼab...</td>\n",
       "    </tr>\n",
       "  </tbody>\n",
       "</table>\n",
       "<p>142 rows × 2 columns</p>\n",
       "</div>"
      ],
      "text/plain": [
       "                                                  text  \\\n",
       "0                                     Koqʼ ri akʼal .    \n",
       "1                                         Xatqʼajik .    \n",
       "2    chi jun tinimit jawi kʼi wi kibʼantajik ri win...   \n",
       "3    Xa jekʼuriʼ ri ix kamik riʼ man ix kaxlan wina...   \n",
       "4                                    Xraj kaʼe le unan   \n",
       "..                                                 ...   \n",
       "137                               Kʼo pus che ri wa .    \n",
       "138  rumal rech che qastzij rumal ri usipanik xixko...   \n",
       "139                                            Natural   \n",
       "140                 kojonik pa ri utzij wa Iximulew .    \n",
       "141  ri qʼatbʼaltzij kokik , xuqujeʼ ri uchuqʼabʼ r...   \n",
       "\n",
       "                                              with_sep  \n",
       "0                                     K>oqʼ ri akʼal .  \n",
       "1                                       X>at>qʼaj>ik .  \n",
       "2    chi jun tinimit jawi kʼi wi ki>bʼantajik ri wi...  \n",
       "3    Xa jekʼuriʼ ri ix kamik riʼ man ix kaxlan wina...  \n",
       "4                                X>r>aj ka>ʼe le u>nan  \n",
       "..                                                 ...  \n",
       "137                               Kʼo pus ch>e ri wa .  \n",
       "138  r>umal rech ch>e qastzij r>umal ri u>sipanik x...  \n",
       "139                                            Natural  \n",
       "140                 kojonik pa ri u>tzij wa Iximulew .  \n",
       "141  ri qʼatbʼaltzij k>ok>ik , xuqujeʼ ri u>chuqʼab...  \n",
       "\n",
       "[142 rows x 2 columns]"
      ]
     },
     "execution_count": 5,
     "metadata": {},
     "output_type": "execute_result"
    }
   ],
   "source": [
    "df"
   ]
  },
  {
   "cell_type": "code",
   "execution_count": 6,
   "metadata": {},
   "outputs": [],
   "source": [
    "kiche_anbur = \"a [a], ä [ə], e [ɛ], i [i], o [o], u [u], m [m], n [n], nh [ŋ], p [p], bʼ [ɓ], t [t], tʼ [tʼ], k [k], kʼ [kʼ], q [q], qʼ [qʼ], tz [ʦ], tzʼ [ʦ’], ch [ʧ], chʼ [ʧ’], s [s], x [ʃ], j [χ], h [h], r [r], l [l], y [j], w [w], ʼ [ʔ]\"\n",
    "alphabet = []\n",
    "for letter in kiche_anbur.split(\",\"):\n",
    "    letter = letter.split()[0]\n",
    "    alphabet.append(letter)\n",
    "    alphabet.append(letter[0].upper() + letter[1:])"
   ]
  },
  {
   "cell_type": "code",
   "execution_count": 7,
   "metadata": {},
   "outputs": [
    {
     "name": "stdout",
     "output_type": "stream",
     "text": [
      "['a', 'A', 'ä', 'Ä', 'e', 'E', 'i', 'I', 'o', 'O', 'u', 'U', 'm', 'M', 'n', 'N', 'nh', 'Nh', 'p', 'P', 'bʼ', 'Bʼ', 't', 'T', 'tʼ', 'Tʼ', 'k', 'K', 'kʼ', 'Kʼ', 'q', 'Q', 'qʼ', 'Qʼ', 'tz', 'Tz', 'tzʼ', 'Tzʼ', 'ch', 'Ch', 'chʼ', 'Chʼ', 's', 'S', 'x', 'X', 'j', 'J', 'h', 'H', 'r', 'R', 'l', 'L', 'y', 'Y', 'w', 'W', 'ʼ', 'ʼ']\n"
     ]
    }
   ],
   "source": [
    "print(alphabet)"
   ]
  },
  {
   "cell_type": "code",
   "execution_count": 8,
   "metadata": {},
   "outputs": [],
   "source": [
    "alph_to_int = dict(zip(alphabet, range(len(alphabet))))\n",
    "int_to_alph = dict(zip(range(len(alphabet)), alphabet))"
   ]
  },
  {
   "cell_type": "code",
   "execution_count": 9,
   "metadata": {},
   "outputs": [],
   "source": [
    "def window(text, size):\n",
    "    tokens = []\n",
    "    i = 0\n",
    "    while i < (len(text)-size+1):\n",
    "        try:\n",
    "            current = ''.join(text[i:i+size])\n",
    "        except:\n",
    "            current = 'not_in_alphabet'\n",
    "        if current in alphabet:\n",
    "            tokens.append(alph_to_int[current])\n",
    "            i += size\n",
    "        else:\n",
    "            tokens.append(text[i])\n",
    "            i += 1\n",
    "    return tokens"
   ]
  },
  {
   "cell_type": "code",
   "execution_count": 10,
   "metadata": {},
   "outputs": [],
   "source": [
    "def tokenize(text):\n",
    "    tokens = list(text + 'ггг')\n",
    "    for i in range(3, 0, -1):\n",
    "        tokens = window(tokens, i)\n",
    "    tokens_2 = []\n",
    "    for token in tokens:\n",
    "        if token in int_to_alph:\n",
    "            token = int_to_alph[token]\n",
    "        tokens_2.append(token)\n",
    "    return tokens_2"
   ]
  },
  {
   "cell_type": "code",
   "execution_count": 11,
   "metadata": {},
   "outputs": [
    {
     "data": {
      "text/plain": [
       "['E',\n",
       " 'n',\n",
       " 'tzʼ',\n",
       " 'o',\n",
       " 'n',\n",
       " 's',\n",
       " 'e',\n",
       " 's',\n",
       " ' ',\n",
       " 'a',\n",
       " 'r',\n",
       " 'e',\n",
       " ' ',\n",
       " 'kʼ',\n",
       " 'w',\n",
       " 'a']"
      ]
     },
     "execution_count": 11,
     "metadata": {},
     "output_type": "execute_result"
    }
   ],
   "source": [
    "tokenize(\"Entzʼonses are kʼwa\")"
   ]
  },
  {
   "cell_type": "code",
   "execution_count": 12,
   "metadata": {},
   "outputs": [],
   "source": [
    "#b, m и s значат beginning, middle и end, а s — single\n",
    "def to_labels(text):\n",
    "    border_tokens = sep + \".!,? \"   #тут можно расширить каким-нибудь string.punctuation например\n",
    "    labels = text.copy()\n",
    "    labels[0] = 'b-morph'\n",
    "    for i in range(len(text)-1):\n",
    "        current = labels[i]\n",
    "        previous = labels[i-1]\n",
    "        next_ = labels[i+1]\n",
    "        if text[i] in border_tokens:\n",
    "            next_ = 'b-morph'\n",
    "            if previous != 'b-morph':\n",
    "                previous = 'e-morph'\n",
    "            else:\n",
    "                previous = 's-morph'\n",
    "        else:\n",
    "            if current != 'b-morph':\n",
    "                current = 'm-morph'\n",
    "        labels[i] = current\n",
    "        labels[i-1] = previous\n",
    "        labels[i+1] = next_\n",
    "    if labels[-1] != 'b-morph':\n",
    "        labels[-1] = 'e-morph'\n",
    "    else:\n",
    "        labels[-1] = 's-morph'\n",
    "    #удаляем разделитель #очень костыльное место, так-то надо всю функцию переделать\n",
    "    labels = list(filter(lambda x: x!=sep, labels))\n",
    "    return labels"
   ]
  },
  {
   "cell_type": "code",
   "execution_count": 13,
   "metadata": {},
   "outputs": [],
   "source": [
    "df['tokens'] = df['text'].apply(tokenize)"
   ]
  },
  {
   "cell_type": "code",
   "execution_count": 14,
   "metadata": {},
   "outputs": [],
   "source": [
    "df['tokens_with_sep'] = df['with_sep'].apply(tokenize)"
   ]
  },
  {
   "cell_type": "code",
   "execution_count": 15,
   "metadata": {},
   "outputs": [],
   "source": [
    "df['labels'] = df['tokens_with_sep'].apply(to_labels)"
   ]
  },
  {
   "cell_type": "code",
   "execution_count": 16,
   "metadata": {},
   "outputs": [
    {
     "data": {
      "text/html": [
       "<div>\n",
       "<style scoped>\n",
       "    .dataframe tbody tr th:only-of-type {\n",
       "        vertical-align: middle;\n",
       "    }\n",
       "\n",
       "    .dataframe tbody tr th {\n",
       "        vertical-align: top;\n",
       "    }\n",
       "\n",
       "    .dataframe thead th {\n",
       "        text-align: right;\n",
       "    }\n",
       "</style>\n",
       "<table border=\"1\" class=\"dataframe\">\n",
       "  <thead>\n",
       "    <tr style=\"text-align: right;\">\n",
       "      <th></th>\n",
       "      <th>text</th>\n",
       "      <th>with_sep</th>\n",
       "      <th>tokens</th>\n",
       "      <th>tokens_with_sep</th>\n",
       "      <th>labels</th>\n",
       "    </tr>\n",
       "  </thead>\n",
       "  <tbody>\n",
       "    <tr>\n",
       "      <th>0</th>\n",
       "      <td>Koqʼ ri akʼal .</td>\n",
       "      <td>K&gt;oqʼ ri akʼal .</td>\n",
       "      <td>[K, o, qʼ,  , r, i,  , a, kʼ, a, l,  , .,  ]</td>\n",
       "      <td>[K, &gt;, o, qʼ,  , r, i,  , a, kʼ, a, l,  , .]</td>\n",
       "      <td>[s-morph, b-morph, e-morph,  , b-morph, e-morp...</td>\n",
       "    </tr>\n",
       "    <tr>\n",
       "      <th>1</th>\n",
       "      <td>Xatqʼajik .</td>\n",
       "      <td>X&gt;at&gt;qʼaj&gt;ik .</td>\n",
       "      <td>[X, a, t, qʼ, a, j, i, k,  , .,  ]</td>\n",
       "      <td>[X, &gt;, a, t, &gt;, qʼ, a, j, &gt;, i, k,  , .]</td>\n",
       "      <td>[s-morph, b-morph, e-morph, b-morph, m-morph, ...</td>\n",
       "    </tr>\n",
       "    <tr>\n",
       "      <th>2</th>\n",
       "      <td>chi jun tinimit jawi kʼi wi kibʼantajik ri win...</td>\n",
       "      <td>chi jun tinimit jawi kʼi wi ki&gt;bʼantajik ri wi...</td>\n",
       "      <td>[ch, i,  , j, u, n,  , t, i, n, i, m, i, t,  ,...</td>\n",
       "      <td>[ch, i,  , j, u, n,  , t, i, n, i, m, i, t,  ,...</td>\n",
       "      <td>[b-morph, e-morph,  , b-morph, m-morph, e-morp...</td>\n",
       "    </tr>\n",
       "    <tr>\n",
       "      <th>3</th>\n",
       "      <td>Xa jekʼuriʼ ri ix kamik riʼ man ix kaxlan wina...</td>\n",
       "      <td>Xa jekʼuriʼ ri ix kamik riʼ man ix kaxlan wina...</td>\n",
       "      <td>[X, a,  , j, e, kʼ, u, r, i, ʼ,  , r, i,  , i,...</td>\n",
       "      <td>[X, a,  , j, e, kʼ, u, r, i, ʼ,  , r, i,  , i,...</td>\n",
       "      <td>[b-morph, e-morph,  , b-morph, m-morph, m-morp...</td>\n",
       "    </tr>\n",
       "    <tr>\n",
       "      <th>4</th>\n",
       "      <td>Xraj kaʼe le unan</td>\n",
       "      <td>X&gt;r&gt;aj ka&gt;ʼe le u&gt;nan</td>\n",
       "      <td>[X, r, a, j,  , k, a, ʼ, e,  , l, e,  , u, n, ...</td>\n",
       "      <td>[X, &gt;, r, &gt;, a, j,  , k, a, &gt;, ʼ, e,  , l, e, ...</td>\n",
       "      <td>[s-morph, s-morph, b-morph, e-morph,  , b-morp...</td>\n",
       "    </tr>\n",
       "    <tr>\n",
       "      <th>...</th>\n",
       "      <td>...</td>\n",
       "      <td>...</td>\n",
       "      <td>...</td>\n",
       "      <td>...</td>\n",
       "      <td>...</td>\n",
       "    </tr>\n",
       "    <tr>\n",
       "      <th>137</th>\n",
       "      <td>Kʼo pus che ri wa .</td>\n",
       "      <td>Kʼo pus ch&gt;e ri wa .</td>\n",
       "      <td>[Kʼ, o,  , p, u, s,  , ch, e,  , r, i,  , w, a...</td>\n",
       "      <td>[Kʼ, o,  , p, u, s,  , ch, &gt;, e,  , r, i,  , w...</td>\n",
       "      <td>[b-morph, e-morph,  , b-morph, m-morph, e-morp...</td>\n",
       "    </tr>\n",
       "    <tr>\n",
       "      <th>138</th>\n",
       "      <td>rumal rech che qastzij rumal ri usipanik xixko...</td>\n",
       "      <td>r&gt;umal rech ch&gt;e qastzij r&gt;umal ri u&gt;sipanik x...</td>\n",
       "      <td>[r, u, m, a, l,  , r, e, ch,  , ch, e,  , q, a...</td>\n",
       "      <td>[r, &gt;, u, m, a, l,  , r, e, ch,  , ch, &gt;, e,  ...</td>\n",
       "      <td>[s-morph, b-morph, m-morph, m-morph, e-morph, ...</td>\n",
       "    </tr>\n",
       "    <tr>\n",
       "      <th>139</th>\n",
       "      <td>Natural</td>\n",
       "      <td>Natural</td>\n",
       "      <td>[N, a, t, u, r, a, l]</td>\n",
       "      <td>[N, a, t, u, r, a, l]</td>\n",
       "      <td>[b-morph, m-morph, m-morph, m-morph, m-morph, ...</td>\n",
       "    </tr>\n",
       "    <tr>\n",
       "      <th>140</th>\n",
       "      <td>kojonik pa ri utzij wa Iximulew .</td>\n",
       "      <td>kojonik pa ri u&gt;tzij wa Iximulew .</td>\n",
       "      <td>[k, o, j, o, n, i, k,  , p, a,  , r, i,  , u, ...</td>\n",
       "      <td>[k, o, j, o, n, i, k,  , p, a,  , r, i,  , u, ...</td>\n",
       "      <td>[b-morph, m-morph, m-morph, m-morph, m-morph, ...</td>\n",
       "    </tr>\n",
       "    <tr>\n",
       "      <th>141</th>\n",
       "      <td>ri qʼatbʼaltzij kokik , xuqujeʼ ri uchuqʼabʼ r...</td>\n",
       "      <td>ri qʼatbʼaltzij k&gt;ok&gt;ik , xuqujeʼ ri u&gt;chuqʼab...</td>\n",
       "      <td>[r, i,  , qʼ, a, t, bʼ, a, l, tz, i, j,  , k, ...</td>\n",
       "      <td>[r, i,  , qʼ, a, t, bʼ, a, l, tz, i, j,  , k, ...</td>\n",
       "      <td>[b-morph, e-morph,  , b-morph, m-morph, m-morp...</td>\n",
       "    </tr>\n",
       "  </tbody>\n",
       "</table>\n",
       "<p>142 rows × 5 columns</p>\n",
       "</div>"
      ],
      "text/plain": [
       "                                                  text  \\\n",
       "0                                     Koqʼ ri akʼal .    \n",
       "1                                         Xatqʼajik .    \n",
       "2    chi jun tinimit jawi kʼi wi kibʼantajik ri win...   \n",
       "3    Xa jekʼuriʼ ri ix kamik riʼ man ix kaxlan wina...   \n",
       "4                                    Xraj kaʼe le unan   \n",
       "..                                                 ...   \n",
       "137                               Kʼo pus che ri wa .    \n",
       "138  rumal rech che qastzij rumal ri usipanik xixko...   \n",
       "139                                            Natural   \n",
       "140                 kojonik pa ri utzij wa Iximulew .    \n",
       "141  ri qʼatbʼaltzij kokik , xuqujeʼ ri uchuqʼabʼ r...   \n",
       "\n",
       "                                              with_sep  \\\n",
       "0                                     K>oqʼ ri akʼal .   \n",
       "1                                       X>at>qʼaj>ik .   \n",
       "2    chi jun tinimit jawi kʼi wi ki>bʼantajik ri wi...   \n",
       "3    Xa jekʼuriʼ ri ix kamik riʼ man ix kaxlan wina...   \n",
       "4                                X>r>aj ka>ʼe le u>nan   \n",
       "..                                                 ...   \n",
       "137                               Kʼo pus ch>e ri wa .   \n",
       "138  r>umal rech ch>e qastzij r>umal ri u>sipanik x...   \n",
       "139                                            Natural   \n",
       "140                 kojonik pa ri u>tzij wa Iximulew .   \n",
       "141  ri qʼatbʼaltzij k>ok>ik , xuqujeʼ ri u>chuqʼab...   \n",
       "\n",
       "                                                tokens  \\\n",
       "0         [K, o, qʼ,  , r, i,  , a, kʼ, a, l,  , .,  ]   \n",
       "1                   [X, a, t, qʼ, a, j, i, k,  , .,  ]   \n",
       "2    [ch, i,  , j, u, n,  , t, i, n, i, m, i, t,  ,...   \n",
       "3    [X, a,  , j, e, kʼ, u, r, i, ʼ,  , r, i,  , i,...   \n",
       "4    [X, r, a, j,  , k, a, ʼ, e,  , l, e,  , u, n, ...   \n",
       "..                                                 ...   \n",
       "137  [Kʼ, o,  , p, u, s,  , ch, e,  , r, i,  , w, a...   \n",
       "138  [r, u, m, a, l,  , r, e, ch,  , ch, e,  , q, a...   \n",
       "139                              [N, a, t, u, r, a, l]   \n",
       "140  [k, o, j, o, n, i, k,  , p, a,  , r, i,  , u, ...   \n",
       "141  [r, i,  , qʼ, a, t, bʼ, a, l, tz, i, j,  , k, ...   \n",
       "\n",
       "                                       tokens_with_sep  \\\n",
       "0         [K, >, o, qʼ,  , r, i,  , a, kʼ, a, l,  , .]   \n",
       "1             [X, >, a, t, >, qʼ, a, j, >, i, k,  , .]   \n",
       "2    [ch, i,  , j, u, n,  , t, i, n, i, m, i, t,  ,...   \n",
       "3    [X, a,  , j, e, kʼ, u, r, i, ʼ,  , r, i,  , i,...   \n",
       "4    [X, >, r, >, a, j,  , k, a, >, ʼ, e,  , l, e, ...   \n",
       "..                                                 ...   \n",
       "137  [Kʼ, o,  , p, u, s,  , ch, >, e,  , r, i,  , w...   \n",
       "138  [r, >, u, m, a, l,  , r, e, ch,  , ch, >, e,  ...   \n",
       "139                              [N, a, t, u, r, a, l]   \n",
       "140  [k, o, j, o, n, i, k,  , p, a,  , r, i,  , u, ...   \n",
       "141  [r, i,  , qʼ, a, t, bʼ, a, l, tz, i, j,  , k, ...   \n",
       "\n",
       "                                                labels  \n",
       "0    [s-morph, b-morph, e-morph,  , b-morph, e-morp...  \n",
       "1    [s-morph, b-morph, e-morph, b-morph, m-morph, ...  \n",
       "2    [b-morph, e-morph,  , b-morph, m-morph, e-morp...  \n",
       "3    [b-morph, e-morph,  , b-morph, m-morph, m-morp...  \n",
       "4    [s-morph, s-morph, b-morph, e-morph,  , b-morp...  \n",
       "..                                                 ...  \n",
       "137  [b-morph, e-morph,  , b-morph, m-morph, e-morp...  \n",
       "138  [s-morph, b-morph, m-morph, m-morph, e-morph, ...  \n",
       "139  [b-morph, m-morph, m-morph, m-morph, m-morph, ...  \n",
       "140  [b-morph, m-morph, m-morph, m-morph, m-morph, ...  \n",
       "141  [b-morph, e-morph,  , b-morph, m-morph, m-morp...  \n",
       "\n",
       "[142 rows x 5 columns]"
      ]
     },
     "execution_count": 16,
     "metadata": {},
     "output_type": "execute_result"
    }
   ],
   "source": [
    "df"
   ]
  },
  {
   "cell_type": "code",
   "execution_count": 17,
   "metadata": {},
   "outputs": [],
   "source": [
    "import pickle"
   ]
  },
  {
   "cell_type": "code",
   "execution_count": 18,
   "metadata": {},
   "outputs": [],
   "source": [
    "filename = filename.split('\\\\')[-1]\n",
    "filename = filename.split('.')[0]"
   ]
  },
  {
   "cell_type": "code",
   "execution_count": 19,
   "metadata": {},
   "outputs": [],
   "source": [
    "with open (filename + '.pickle', 'bw') as f:\n",
    "    pickle.dump(df, f)"
   ]
  },
  {
   "cell_type": "code",
   "execution_count": null,
   "metadata": {},
   "outputs": [],
   "source": []
  }
 ],
 "metadata": {
  "kernelspec": {
   "display_name": "Python 3",
   "language": "python",
   "name": "python3"
  },
  "language_info": {
   "codemirror_mode": {
    "name": "ipython",
    "version": 3
   },
   "file_extension": ".py",
   "mimetype": "text/x-python",
   "name": "python",
   "nbconvert_exporter": "python",
   "pygments_lexer": "ipython3",
   "version": "3.7.6"
  }
 },
 "nbformat": 4,
 "nbformat_minor": 4
}
