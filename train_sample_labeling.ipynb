{
 "cells": [
  {
   "cell_type": "code",
   "execution_count": 1,
   "metadata": {},
   "outputs": [],
   "source": [
    "import pandas as pd"
   ]
  },
  {
   "cell_type": "code",
   "execution_count": 2,
   "metadata": {},
   "outputs": [],
   "source": [
    "filename = r\"C:\\Users\\Иннокентий\\Downloads\\train.tsv\""
   ]
  },
  {
   "cell_type": "code",
   "execution_count": 3,
   "metadata": {},
   "outputs": [],
   "source": [
    "sep='>'"
   ]
  },
  {
   "cell_type": "code",
   "execution_count": 4,
   "metadata": {},
   "outputs": [],
   "source": [
    "df = pd.read_csv(filename, sep='\\t', encoding='utf-8', names=['text', 'with_sep'])"
   ]
  },
  {
   "cell_type": "code",
   "execution_count": 5,
   "metadata": {
    "scrolled": true
   },
   "outputs": [
    {
     "data": {
      "text/html": [
       "<div>\n",
       "<style scoped>\n",
       "    .dataframe tbody tr th:only-of-type {\n",
       "        vertical-align: middle;\n",
       "    }\n",
       "\n",
       "    .dataframe tbody tr th {\n",
       "        vertical-align: top;\n",
       "    }\n",
       "\n",
       "    .dataframe thead th {\n",
       "        text-align: right;\n",
       "    }\n",
       "</style>\n",
       "<table border=\"1\" class=\"dataframe\">\n",
       "  <thead>\n",
       "    <tr style=\"text-align: right;\">\n",
       "      <th></th>\n",
       "      <th>text</th>\n",
       "      <th>with_sep</th>\n",
       "    </tr>\n",
       "  </thead>\n",
       "  <tbody>\n",
       "    <tr>\n",
       "      <th>0</th>\n",
       "      <td>Ri numam xkamik are taq kʼo jumuchʼ lajuj ujun...</td>\n",
       "      <td>Ri nu&gt;mam x&gt;kamik are taq kʼo jumuchʼ lajuj u&gt;...</td>\n",
       "    </tr>\n",
       "    <tr>\n",
       "      <th>1</th>\n",
       "      <td>Nojel qʼij ri a Tiʼx kuyuqʼuj le taq awaj jela...</td>\n",
       "      <td>Nojel qʼij ri a Tiʼx k&gt;u&gt;yuqʼuj le taq awaj je...</td>\n",
       "    </tr>\n",
       "    <tr>\n",
       "      <th>2</th>\n",
       "      <td>Kateʼbʼin .</td>\n",
       "      <td>K&gt;at&gt;eʼ&gt;bʼin .</td>\n",
       "    </tr>\n",
       "    <tr>\n",
       "      <th>3</th>\n",
       "      <td>Entonses are kʼwaʼ le kawaj kinbʼij pan in .</td>\n",
       "      <td>Entonses are kʼ&gt;waʼ le k&gt;aw&gt;aj k&gt;in&gt;bʼij pan in .</td>\n",
       "    </tr>\n",
       "    <tr>\n",
       "      <th>4</th>\n",
       "      <td>Nim raqan le cheʼ .</td>\n",
       "      <td>Nim r&gt;aqan le cheʼ .</td>\n",
       "    </tr>\n",
       "    <tr>\n",
       "      <th>...</th>\n",
       "      <td>...</td>\n",
       "      <td>...</td>\n",
       "    </tr>\n",
       "    <tr>\n",
       "      <th>1467</th>\n",
       "      <td>Xax rij mansaʼn .</td>\n",
       "      <td>Xax r&gt;ij mansaʼn .</td>\n",
       "    </tr>\n",
       "    <tr>\n",
       "      <th>1468</th>\n",
       "      <td>Man kʼo ta pwaq chech ri umuqubʼal .</td>\n",
       "      <td>Man kʼo ta pwaq ch&gt;ech ri u&gt;muqubʼal .</td>\n",
       "    </tr>\n",
       "    <tr>\n",
       "      <th>1469</th>\n",
       "      <td>Rajawaxik kakʼaman chawe le utijik le lej .</td>\n",
       "      <td>Rajawaxik ka&gt;kʼaman ch&gt;aw&gt;e le u&gt;tij&gt;ik le lej .</td>\n",
       "    </tr>\n",
       "    <tr>\n",
       "      <th>1470</th>\n",
       "      <td>Sipojinaq ri nupam .</td>\n",
       "      <td>Sipojinaq ri nu&gt;pam .</td>\n",
       "    </tr>\n",
       "    <tr>\n",
       "      <th>1471</th>\n",
       "      <td>Xinbʼe .</td>\n",
       "      <td>X&gt;in&gt;bʼe .</td>\n",
       "    </tr>\n",
       "  </tbody>\n",
       "</table>\n",
       "<p>1472 rows × 2 columns</p>\n",
       "</div>"
      ],
      "text/plain": [
       "                                                   text  \\\n",
       "0     Ri numam xkamik are taq kʼo jumuchʼ lajuj ujun...   \n",
       "1     Nojel qʼij ri a Tiʼx kuyuqʼuj le taq awaj jela...   \n",
       "2                                           Kateʼbʼin .   \n",
       "3          Entonses are kʼwaʼ le kawaj kinbʼij pan in .   \n",
       "4                                   Nim raqan le cheʼ .   \n",
       "...                                                 ...   \n",
       "1467                                  Xax rij mansaʼn .   \n",
       "1468               Man kʼo ta pwaq chech ri umuqubʼal .   \n",
       "1469        Rajawaxik kakʼaman chawe le utijik le lej .   \n",
       "1470                               Sipojinaq ri nupam .   \n",
       "1471                                           Xinbʼe .   \n",
       "\n",
       "                                               with_sep  \n",
       "0     Ri nu>mam x>kamik are taq kʼo jumuchʼ lajuj u>...  \n",
       "1     Nojel qʼij ri a Tiʼx k>u>yuqʼuj le taq awaj je...  \n",
       "2                                        K>at>eʼ>bʼin .  \n",
       "3     Entonses are kʼ>waʼ le k>aw>aj k>in>bʼij pan in .  \n",
       "4                                  Nim r>aqan le cheʼ .  \n",
       "...                                                 ...  \n",
       "1467                                 Xax r>ij mansaʼn .  \n",
       "1468             Man kʼo ta pwaq ch>ech ri u>muqubʼal .  \n",
       "1469   Rajawaxik ka>kʼaman ch>aw>e le u>tij>ik le lej .  \n",
       "1470                              Sipojinaq ri nu>pam .  \n",
       "1471                                         X>in>bʼe .  \n",
       "\n",
       "[1472 rows x 2 columns]"
      ]
     },
     "execution_count": 5,
     "metadata": {},
     "output_type": "execute_result"
    }
   ],
   "source": [
    "df"
   ]
  },
  {
   "cell_type": "code",
   "execution_count": 6,
   "metadata": {},
   "outputs": [],
   "source": [
    "kiche_anbur = \"a [a], ä [ə], e [ɛ], i [i], o [o], u [u], m [m], n [n], nh [ŋ], p [p], bʼ [ɓ], t [t], tʼ [tʼ], k [k], kʼ [kʼ], q [q], qʼ [qʼ], tz [ʦ], tzʼ [ʦ’], ch [ʧ], chʼ [ʧ’], s [s], x [ʃ], j [χ], h [h], r [r], l [l], y [j], w [w], ʼ [ʔ]\"\n",
    "alphabet = []\n",
    "for letter in kiche_anbur.split(\",\"):\n",
    "    letter = letter.split()[0]\n",
    "    alphabet.append(letter)\n",
    "    alphabet.append(letter[0].upper() + letter[1:])"
   ]
  },
  {
   "cell_type": "code",
   "execution_count": 7,
   "metadata": {},
   "outputs": [
    {
     "name": "stdout",
     "output_type": "stream",
     "text": [
      "['a', 'A', 'ä', 'Ä', 'e', 'E', 'i', 'I', 'o', 'O', 'u', 'U', 'm', 'M', 'n', 'N', 'nh', 'Nh', 'p', 'P', 'bʼ', 'Bʼ', 't', 'T', 'tʼ', 'Tʼ', 'k', 'K', 'kʼ', 'Kʼ', 'q', 'Q', 'qʼ', 'Qʼ', 'tz', 'Tz', 'tzʼ', 'Tzʼ', 'ch', 'Ch', 'chʼ', 'Chʼ', 's', 'S', 'x', 'X', 'j', 'J', 'h', 'H', 'r', 'R', 'l', 'L', 'y', 'Y', 'w', 'W', 'ʼ', 'ʼ']\n"
     ]
    }
   ],
   "source": [
    "print(alphabet)"
   ]
  },
  {
   "cell_type": "code",
   "execution_count": 8,
   "metadata": {},
   "outputs": [],
   "source": [
    "alph_to_int = dict(zip(alphabet, range(len(alphabet))))\n",
    "int_to_alph = dict(zip(range(len(alphabet)), alphabet))"
   ]
  },
  {
   "cell_type": "code",
   "execution_count": 9,
   "metadata": {},
   "outputs": [],
   "source": [
    "def window(text, size):\n",
    "    tokens = []\n",
    "    i = 0\n",
    "    while i < (len(text)-size+1):\n",
    "        try:\n",
    "            current = ''.join(text[i:i+size])\n",
    "        except:\n",
    "            current = 'not_in_alphabet'\n",
    "        if current in alphabet:\n",
    "            tokens.append(alph_to_int[current])\n",
    "            i += size\n",
    "        else:\n",
    "            tokens.append(text[i])\n",
    "            i += 1\n",
    "    return tokens"
   ]
  },
  {
   "cell_type": "code",
   "execution_count": 10,
   "metadata": {},
   "outputs": [],
   "source": [
    "def tokenize(text):\n",
    "    tokens = list(text + 'ггг')\n",
    "    for i in range(3, 0, -1):\n",
    "        tokens = window(tokens, i)\n",
    "    tokens_2 = []\n",
    "    for token in tokens:\n",
    "        if token in int_to_alph:\n",
    "            token = int_to_alph[token]\n",
    "        tokens_2.append(token)\n",
    "    return tokens_2"
   ]
  },
  {
   "cell_type": "code",
   "execution_count": 11,
   "metadata": {},
   "outputs": [
    {
     "data": {
      "text/plain": [
       "['E',\n",
       " 'n',\n",
       " 'tzʼ',\n",
       " 'o',\n",
       " 'n',\n",
       " 's',\n",
       " 'e',\n",
       " 's',\n",
       " ' ',\n",
       " 'a',\n",
       " 'r',\n",
       " 'e',\n",
       " ' ',\n",
       " 'kʼ',\n",
       " 'w',\n",
       " 'a']"
      ]
     },
     "execution_count": 11,
     "metadata": {},
     "output_type": "execute_result"
    }
   ],
   "source": [
    "tokenize(\"Entzʼonses are kʼwa\")"
   ]
  },
  {
   "cell_type": "code",
   "execution_count": 12,
   "metadata": {},
   "outputs": [],
   "source": [
    "#b, m и s значат beginning, middle и end, а s — single\n",
    "def to_labels(text):\n",
    "    border_tokens = sep + \".!,? \"   #тут можно расширить каким-нибудь string.punctuation например\n",
    "    labels = text.copy()\n",
    "    labels[0] = 'b-morph'\n",
    "    for i in range(len(text)-1):\n",
    "        current = labels[i]\n",
    "        previous = labels[i-1]\n",
    "        next_ = labels[i+1]\n",
    "        if text[i] in border_tokens:\n",
    "            next_ = 'b-morph'\n",
    "            if previous != 'b-morph':\n",
    "                previous = 'e-morph'\n",
    "            else:\n",
    "                previous = 's-morph'\n",
    "        else:\n",
    "            if current != 'b-morph':\n",
    "                current = 'm-morph'\n",
    "        labels[i] = current\n",
    "        labels[i-1] = previous\n",
    "        labels[i+1] = next_\n",
    "    if labels[-1] != 'b-morph':\n",
    "        labels[-1] = 'e-morph'\n",
    "    else:\n",
    "        labels[-1] = 's-morph'\n",
    "    return labels"
   ]
  },
  {
   "cell_type": "code",
   "execution_count": 13,
   "metadata": {},
   "outputs": [],
   "source": [
    "df['tokens'] = df['text'].apply(tokenize)"
   ]
  },
  {
   "cell_type": "code",
   "execution_count": 14,
   "metadata": {},
   "outputs": [],
   "source": [
    "df['labels'] = df['tokens'].apply(to_labels)"
   ]
  },
  {
   "cell_type": "code",
   "execution_count": 15,
   "metadata": {},
   "outputs": [
    {
     "data": {
      "text/html": [
       "<div>\n",
       "<style scoped>\n",
       "    .dataframe tbody tr th:only-of-type {\n",
       "        vertical-align: middle;\n",
       "    }\n",
       "\n",
       "    .dataframe tbody tr th {\n",
       "        vertical-align: top;\n",
       "    }\n",
       "\n",
       "    .dataframe thead th {\n",
       "        text-align: right;\n",
       "    }\n",
       "</style>\n",
       "<table border=\"1\" class=\"dataframe\">\n",
       "  <thead>\n",
       "    <tr style=\"text-align: right;\">\n",
       "      <th></th>\n",
       "      <th>text</th>\n",
       "      <th>with_sep</th>\n",
       "      <th>tokens</th>\n",
       "      <th>labels</th>\n",
       "    </tr>\n",
       "  </thead>\n",
       "  <tbody>\n",
       "    <tr>\n",
       "      <th>0</th>\n",
       "      <td>Ri numam xkamik are taq kʼo jumuchʼ lajuj ujun...</td>\n",
       "      <td>Ri nu&gt;mam x&gt;kamik are taq kʼo jumuchʼ lajuj u&gt;...</td>\n",
       "      <td>[R, i,  , n, u, m, a, m,  , x, k, a, m, i, k, ...</td>\n",
       "      <td>[b-morph, e-morph,  , b-morph, m-morph, m-morp...</td>\n",
       "    </tr>\n",
       "    <tr>\n",
       "      <th>1</th>\n",
       "      <td>Nojel qʼij ri a Tiʼx kuyuqʼuj le taq awaj jela...</td>\n",
       "      <td>Nojel qʼij ri a Tiʼx k&gt;u&gt;yuqʼuj le taq awaj je...</td>\n",
       "      <td>[N, o, j, e, l,  , qʼ, i, j,  , r, i,  , a,  ,...</td>\n",
       "      <td>[b-morph, m-morph, m-morph, m-morph, e-morph, ...</td>\n",
       "    </tr>\n",
       "    <tr>\n",
       "      <th>2</th>\n",
       "      <td>Kateʼbʼin .</td>\n",
       "      <td>K&gt;at&gt;eʼ&gt;bʼin .</td>\n",
       "      <td>[K, a, t, e, ʼ, bʼ, i, n,  , .]</td>\n",
       "      <td>[b-morph, m-morph, m-morph, m-morph, m-morph, ...</td>\n",
       "    </tr>\n",
       "    <tr>\n",
       "      <th>3</th>\n",
       "      <td>Entonses are kʼwaʼ le kawaj kinbʼij pan in .</td>\n",
       "      <td>Entonses are kʼ&gt;waʼ le k&gt;aw&gt;aj k&gt;in&gt;bʼij pan in .</td>\n",
       "      <td>[E, n, t, o, n, s, e, s,  , a, r, e,  , kʼ, w,...</td>\n",
       "      <td>[b-morph, m-morph, m-morph, m-morph, m-morph, ...</td>\n",
       "    </tr>\n",
       "    <tr>\n",
       "      <th>4</th>\n",
       "      <td>Nim raqan le cheʼ .</td>\n",
       "      <td>Nim r&gt;aqan le cheʼ .</td>\n",
       "      <td>[N, i, m,  , r, a, q, a, n,  , l, e,  , ch, e,...</td>\n",
       "      <td>[b-morph, m-morph, e-morph,  , b-morph, m-morp...</td>\n",
       "    </tr>\n",
       "    <tr>\n",
       "      <th>...</th>\n",
       "      <td>...</td>\n",
       "      <td>...</td>\n",
       "      <td>...</td>\n",
       "      <td>...</td>\n",
       "    </tr>\n",
       "    <tr>\n",
       "      <th>1467</th>\n",
       "      <td>Xax rij mansaʼn .</td>\n",
       "      <td>Xax r&gt;ij mansaʼn .</td>\n",
       "      <td>[X, a, x,  , r, i, j,  , m, a, n, s, a, ʼ, n, ...</td>\n",
       "      <td>[b-morph, m-morph, e-morph,  , b-morph, m-morp...</td>\n",
       "    </tr>\n",
       "    <tr>\n",
       "      <th>1468</th>\n",
       "      <td>Man kʼo ta pwaq chech ri umuqubʼal .</td>\n",
       "      <td>Man kʼo ta pwaq ch&gt;ech ri u&gt;muqubʼal .</td>\n",
       "      <td>[M, a, n,  , kʼ, o,  , t, a,  , p, w, a, q,  ,...</td>\n",
       "      <td>[b-morph, m-morph, e-morph,  , b-morph, e-morp...</td>\n",
       "    </tr>\n",
       "    <tr>\n",
       "      <th>1469</th>\n",
       "      <td>Rajawaxik kakʼaman chawe le utijik le lej .</td>\n",
       "      <td>Rajawaxik ka&gt;kʼaman ch&gt;aw&gt;e le u&gt;tij&gt;ik le lej .</td>\n",
       "      <td>[R, a, j, a, w, a, x, i, k,  , k, a, kʼ, a, m,...</td>\n",
       "      <td>[b-morph, m-morph, m-morph, m-morph, m-morph, ...</td>\n",
       "    </tr>\n",
       "    <tr>\n",
       "      <th>1470</th>\n",
       "      <td>Sipojinaq ri nupam .</td>\n",
       "      <td>Sipojinaq ri nu&gt;pam .</td>\n",
       "      <td>[S, i, p, o, j, i, n, a, q,  , r, i,  , n, u, ...</td>\n",
       "      <td>[b-morph, m-morph, m-morph, m-morph, m-morph, ...</td>\n",
       "    </tr>\n",
       "    <tr>\n",
       "      <th>1471</th>\n",
       "      <td>Xinbʼe .</td>\n",
       "      <td>X&gt;in&gt;bʼe .</td>\n",
       "      <td>[X, i, n, bʼ, e,  , .]</td>\n",
       "      <td>[b-morph, m-morph, m-morph, m-morph, e-morph, ...</td>\n",
       "    </tr>\n",
       "  </tbody>\n",
       "</table>\n",
       "<p>1472 rows × 4 columns</p>\n",
       "</div>"
      ],
      "text/plain": [
       "                                                   text  \\\n",
       "0     Ri numam xkamik are taq kʼo jumuchʼ lajuj ujun...   \n",
       "1     Nojel qʼij ri a Tiʼx kuyuqʼuj le taq awaj jela...   \n",
       "2                                           Kateʼbʼin .   \n",
       "3          Entonses are kʼwaʼ le kawaj kinbʼij pan in .   \n",
       "4                                   Nim raqan le cheʼ .   \n",
       "...                                                 ...   \n",
       "1467                                  Xax rij mansaʼn .   \n",
       "1468               Man kʼo ta pwaq chech ri umuqubʼal .   \n",
       "1469        Rajawaxik kakʼaman chawe le utijik le lej .   \n",
       "1470                               Sipojinaq ri nupam .   \n",
       "1471                                           Xinbʼe .   \n",
       "\n",
       "                                               with_sep  \\\n",
       "0     Ri nu>mam x>kamik are taq kʼo jumuchʼ lajuj u>...   \n",
       "1     Nojel qʼij ri a Tiʼx k>u>yuqʼuj le taq awaj je...   \n",
       "2                                        K>at>eʼ>bʼin .   \n",
       "3     Entonses are kʼ>waʼ le k>aw>aj k>in>bʼij pan in .   \n",
       "4                                  Nim r>aqan le cheʼ .   \n",
       "...                                                 ...   \n",
       "1467                                 Xax r>ij mansaʼn .   \n",
       "1468             Man kʼo ta pwaq ch>ech ri u>muqubʼal .   \n",
       "1469   Rajawaxik ka>kʼaman ch>aw>e le u>tij>ik le lej .   \n",
       "1470                              Sipojinaq ri nu>pam .   \n",
       "1471                                         X>in>bʼe .   \n",
       "\n",
       "                                                 tokens  \\\n",
       "0     [R, i,  , n, u, m, a, m,  , x, k, a, m, i, k, ...   \n",
       "1     [N, o, j, e, l,  , qʼ, i, j,  , r, i,  , a,  ,...   \n",
       "2                       [K, a, t, e, ʼ, bʼ, i, n,  , .]   \n",
       "3     [E, n, t, o, n, s, e, s,  , a, r, e,  , kʼ, w,...   \n",
       "4     [N, i, m,  , r, a, q, a, n,  , l, e,  , ch, e,...   \n",
       "...                                                 ...   \n",
       "1467  [X, a, x,  , r, i, j,  , m, a, n, s, a, ʼ, n, ...   \n",
       "1468  [M, a, n,  , kʼ, o,  , t, a,  , p, w, a, q,  ,...   \n",
       "1469  [R, a, j, a, w, a, x, i, k,  , k, a, kʼ, a, m,...   \n",
       "1470  [S, i, p, o, j, i, n, a, q,  , r, i,  , n, u, ...   \n",
       "1471                             [X, i, n, bʼ, e,  , .]   \n",
       "\n",
       "                                                 labels  \n",
       "0     [b-morph, e-morph,  , b-morph, m-morph, m-morp...  \n",
       "1     [b-morph, m-morph, m-morph, m-morph, e-morph, ...  \n",
       "2     [b-morph, m-morph, m-morph, m-morph, m-morph, ...  \n",
       "3     [b-morph, m-morph, m-morph, m-morph, m-morph, ...  \n",
       "4     [b-morph, m-morph, e-morph,  , b-morph, m-morp...  \n",
       "...                                                 ...  \n",
       "1467  [b-morph, m-morph, e-morph,  , b-morph, m-morp...  \n",
       "1468  [b-morph, m-morph, e-morph,  , b-morph, e-morp...  \n",
       "1469  [b-morph, m-morph, m-morph, m-morph, m-morph, ...  \n",
       "1470  [b-morph, m-morph, m-morph, m-morph, m-morph, ...  \n",
       "1471  [b-morph, m-morph, m-morph, m-morph, e-morph, ...  \n",
       "\n",
       "[1472 rows x 4 columns]"
      ]
     },
     "execution_count": 15,
     "metadata": {},
     "output_type": "execute_result"
    }
   ],
   "source": [
    "df"
   ]
  },
  {
   "cell_type": "code",
   "execution_count": 16,
   "metadata": {},
   "outputs": [],
   "source": [
    "import pickle"
   ]
  },
  {
   "cell_type": "code",
   "execution_count": 17,
   "metadata": {},
   "outputs": [],
   "source": [
    "filename = filename.split('\\\\')[-1]\n",
    "filename = filename.split('.')[0]"
   ]
  },
  {
   "cell_type": "code",
   "execution_count": 18,
   "metadata": {},
   "outputs": [],
   "source": [
    "with open (filename + '.pickle', 'bw') as f:\n",
    "    pickle.dump(df, f)"
   ]
  },
  {
   "cell_type": "code",
   "execution_count": null,
   "metadata": {},
   "outputs": [],
   "source": []
  }
 ],
 "metadata": {
  "kernelspec": {
   "display_name": "Python 3",
   "language": "python",
   "name": "python3"
  },
  "language_info": {
   "codemirror_mode": {
    "name": "ipython",
    "version": 3
   },
   "file_extension": ".py",
   "mimetype": "text/x-python",
   "name": "python",
   "nbconvert_exporter": "python",
   "pygments_lexer": "ipython3",
   "version": "3.7.6"
  }
 },
 "nbformat": 4,
 "nbformat_minor": 4
}
